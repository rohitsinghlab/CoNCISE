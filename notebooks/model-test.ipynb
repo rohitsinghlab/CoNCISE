{
 "cells": [
  {
   "cell_type": "code",
   "execution_count": 1,
   "metadata": {},
   "outputs": [],
   "source": [
    "import torch\n",
    "import sys\n",
    "\n",
    "sys.path.append(\"../\")"
   ]
  },
  {
   "cell_type": "code",
   "execution_count": 3,
   "metadata": {},
   "outputs": [],
   "source": [
    "from concise.model.concise import Concise"
   ]
  },
  {
   "cell_type": "code",
   "execution_count": 7,
   "metadata": {},
   "outputs": [],
   "source": [
    "LAYERS = [[32], [32], [32]]\n",
    "ccise  = Concise(drug_layers = LAYERS, ligand_dim = 2048,\n",
    "                residue_dim = 1280, drug_dim = 256, proj_dim = 256,\n",
    "                nheads = 64, activation = \"gelu\", quantizer = \"fsq\", cosine_prediction = True)"
   ]
  },
  {
   "cell_type": "code",
   "execution_count": 9,
   "metadata": {},
   "outputs": [
    {
     "name": "stderr",
     "output_type": "stream",
     "text": [
      "/scratch/kd312/tmp/ipykernel_3536073/267673100.py:1: FutureWarning: You are using `torch.load` with `weights_only=False` (the current default value), which uses the default pickle module implicitly. It is possible to construct malicious pickle data which will execute arbitrary code during unpickling (See https://github.com/pytorch/pytorch/blob/main/SECURITY.md#untrusted-models for more details). In a future release, the default value for `weights_only` will be flipped to `True`. This limits the functions that could be executed during unpickling. Arbitrary objects will no longer be allowed to be loaded via this mode unless they are explicitly allowlisted by the user via `torch.serialization.add_safe_globals`. We recommend you start setting `weights_only=True` for any use case where you don't have full control of the loaded file. Please open an issue on GitHub for any issues related to this experimental feature.\n",
      "  chkpt = torch.load(\"../data/models/pretrained.sav\")\n"
     ]
    },
    {
     "data": {
      "text/plain": [
       "odict_keys(['d_encoder.residualfsqs.0.in_proj.0.weight', 'd_encoder.residualfsqs.0.in_proj.0.bias', 'd_encoder.residualfsqs.0.in_proj.2.weight', 'd_encoder.residualfsqs.0.in_proj.2.bias', 'd_encoder.residualfsqs.0.out_proj.0.weight', 'd_encoder.residualfsqs.0.out_proj.0.bias', 'd_encoder.residualfsqs.0.out_proj.2.weight', 'd_encoder.residualfsqs.0.out_proj.2.bias', 'd_encoder.residualfsqs.0.ln1.weight', 'd_encoder.residualfsqs.0.ln1.bias', 'd_encoder.residualfsqs.0.ln2.weight', 'd_encoder.residualfsqs.0.ln2.bias', 'd_encoder.residualfsqs.1.in_proj.0.weight', 'd_encoder.residualfsqs.1.in_proj.0.bias', 'd_encoder.residualfsqs.1.in_proj.2.weight', 'd_encoder.residualfsqs.1.in_proj.2.bias', 'd_encoder.residualfsqs.1.out_proj.0.weight', 'd_encoder.residualfsqs.1.out_proj.0.bias', 'd_encoder.residualfsqs.1.out_proj.2.weight', 'd_encoder.residualfsqs.1.out_proj.2.bias', 'd_encoder.residualfsqs.1.ln1.weight', 'd_encoder.residualfsqs.1.ln1.bias', 'd_encoder.residualfsqs.1.ln2.weight', 'd_encoder.residualfsqs.1.ln2.bias', 'd_encoder.residualfsqs.2.in_proj.0.weight', 'd_encoder.residualfsqs.2.in_proj.0.bias', 'd_encoder.residualfsqs.2.in_proj.2.weight', 'd_encoder.residualfsqs.2.in_proj.2.bias', 'd_encoder.residualfsqs.2.out_proj.0.weight', 'd_encoder.residualfsqs.2.out_proj.0.bias', 'd_encoder.residualfsqs.2.out_proj.2.weight', 'd_encoder.residualfsqs.2.out_proj.2.bias', 'd_encoder.residualfsqs.2.ln1.weight', 'd_encoder.residualfsqs.2.ln1.bias', 'd_encoder.residualfsqs.2.ln2.weight', 'd_encoder.residualfsqs.2.ln2.bias', 'd_encoder.pre_transform.1.weight', 'd_encoder.pre_transform.1.bias', 'd_encoder.pre_transform.3.weight', 'd_encoder.pre_transform.3.bias', 'r_project.weight', 'r_project.bias', 'd_project.weight', 'd_project.bias', 'd_to_r_attention.in_proj_weight', 'd_to_r_attention.in_proj_bias', 'd_to_r_attention.out_proj.weight', 'd_to_r_attention.out_proj.bias', 'd_to_d_attention.self_attn.bias_k', 'd_to_d_attention.self_attn.bias_v', 'd_to_d_attention.self_attn.k_proj.weight', 'd_to_d_attention.self_attn.k_proj.bias', 'd_to_d_attention.self_attn.v_proj.weight', 'd_to_d_attention.self_attn.v_proj.bias', 'd_to_d_attention.self_attn.q_proj.weight', 'd_to_d_attention.self_attn.q_proj.bias', 'd_to_d_attention.self_attn.out_proj.weight', 'd_to_d_attention.self_attn.out_proj.bias', 'd_to_d_attention.self_attn.rot_emb.inv_freq', 'd_to_d_attention.self_attn_layer_norm.weight', 'd_to_d_attention.self_attn_layer_norm.bias', 'd_to_d_attention.fc1.weight', 'd_to_d_attention.fc1.bias', 'd_to_d_attention.fc2.weight', 'd_to_d_attention.fc2.bias', 'd_to_d_attention.final_layer_norm.weight', 'd_to_d_attention.final_layer_norm.bias', 'r_to_r_attention.self_attn.bias_k', 'r_to_r_attention.self_attn.bias_v', 'r_to_r_attention.self_attn.k_proj.weight', 'r_to_r_attention.self_attn.k_proj.bias', 'r_to_r_attention.self_attn.v_proj.weight', 'r_to_r_attention.self_attn.v_proj.bias', 'r_to_r_attention.self_attn.q_proj.weight', 'r_to_r_attention.self_attn.q_proj.bias', 'r_to_r_attention.self_attn.out_proj.weight', 'r_to_r_attention.self_attn.out_proj.bias', 'r_to_r_attention.self_attn.rot_emb.inv_freq', 'r_to_r_attention.self_attn_layer_norm.weight', 'r_to_r_attention.self_attn_layer_norm.bias', 'r_to_r_attention.fc1.weight', 'r_to_r_attention.fc1.bias', 'r_to_r_attention.fc2.weight', 'r_to_r_attention.fc2.bias', 'r_to_r_attention.final_layer_norm.weight', 'r_to_r_attention.final_layer_norm.bias', 'r_to_d_attention.in_proj_weight', 'r_to_d_attention.in_proj_bias', 'r_to_d_attention.out_proj.weight', 'r_to_d_attention.out_proj.bias', 'final.ligand.0.weight', 'final.ligand.0.bias', 'final.rec.0.weight', 'final.rec.0.bias'])"
      ]
     },
     "execution_count": 9,
     "metadata": {},
     "output_type": "execute_result"
    }
   ],
   "source": [
    "chkpt = torch.load(\"../data/models/pretrained.sav\")\n",
    "\n",
    "chkpt[\"model_state_dict\"].keys()"
   ]
  },
  {
   "cell_type": "code",
   "execution_count": 10,
   "metadata": {},
   "outputs": [
    {
     "data": {
      "text/plain": [
       "<All keys matched successfully>"
      ]
     },
     "execution_count": 10,
     "metadata": {},
     "output_type": "execute_result"
    }
   ],
   "source": [
    "ccise.load_state_dict(chkpt[\"model_state_dict\"])"
   ]
  }
 ],
 "metadata": {
  "kernelspec": {
   "display_name": "Python 3",
   "language": "python",
   "name": "python3"
  },
  "language_info": {
   "codemirror_mode": {
    "name": "ipython",
    "version": 3
   },
   "file_extension": ".py",
   "mimetype": "text/x-python",
   "name": "python",
   "nbconvert_exporter": "python",
   "pygments_lexer": "ipython3",
   "version": "3.11.9"
  }
 },
 "nbformat": 4,
 "nbformat_minor": 2
}
